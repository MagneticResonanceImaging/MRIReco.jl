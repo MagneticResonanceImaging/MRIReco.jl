{
 "cells": [
  {
   "cell_type": "markdown",
   "source": [
    "# Subspace"
   ],
   "metadata": {}
  },
  {
   "cell_type": "markdown",
   "source": [
    "## Description\n",
    "\n",
    "This example described how to perform a subspace reconstruction for $T_2$ mapping acceleration."
   ],
   "metadata": {}
  },
  {
   "cell_type": "markdown",
   "source": [
    "## Setup and define global variable"
   ],
   "metadata": {}
  },
  {
   "outputs": [],
   "cell_type": "code",
   "source": [
    "using CairoMakie\n",
    "using ImageUtils: shepp_logan\n",
    "using LinearAlgebra\n",
    "using  Random\n",
    "using MRIReco, MRISimulation, MRICoilSensitivities, MRISampling,MRIOperators\n",
    "color=Makie.wong_colors() # color for plots\n",
    "\n",
    "N = 128\n",
    "T = ComplexF32\n",
    "nCh = 4\n",
    "nEchos = 10\n",
    "TE = 7.0\n",
    "\n",
    "\n",
    "\n",
    "x = T.(shepp_logan(N))"
   ],
   "metadata": {},
   "execution_count": null
  },
  {
   "cell_type": "markdown",
   "source": [
    "## simulate MESE acquisition of a shepp logan phantom\n",
    "\n",
    "First we need to simulate a multi-echo spin-echo phantom. The R₂ maps is based on the\n",
    "value of each voxel the shepp logan phantom.\n",
    "For the T2 we use"
   ],
   "metadata": {}
  },
  {
   "outputs": [],
   "cell_type": "code",
   "source": [
    "rmap = 0.05*abs.(x)\n",
    "TEnum = Float64.(collect(TE:TE:TE*nEchos))\n",
    "\n",
    "coilsens = T.(birdcageSensitivity(N, nCh, 4.))\n",
    "params = Dict{Symbol,Any}()\n",
    "params[:simulation] = \"fast\"\n",
    "params[:trajName] = \"Cartesian\"\n",
    "params[:numProfiles] = floor(Int64, N)\n",
    "params[:numSamplingPerProfile] = N\n",
    "params[:r2map] = rmap\n",
    "params[:T_echo] = TEnum\n",
    "params[:seqName] = \"ME\"\n",
    "params[:refocusingAngles] = Float64.(repeat([pi], length(TEnum)))\n",
    "params[:senseMaps] = coilsens\n",
    "\n",
    "acqData = simulation(real(x), params)"
   ],
   "metadata": {},
   "execution_count": null
  },
  {
   "cell_type": "markdown",
   "source": [
    "## Subsampling the kspace\n",
    "We need to subsample the data. We generate a sampling mask which is different for each TE."
   ],
   "metadata": {}
  },
  {
   "outputs": [],
   "cell_type": "code",
   "source": [
    "mask = zeros(Int32,(N,N,length(TEnum)))\n",
    "for echo = 1:length(TEnum)\n",
    "  mask_tmp = zeros(Int32,(N,N))\n",
    "  cal_disk = sample_poissondisk((N,N),4.0;calsize = 14,seed=echo)\n",
    "\n",
    "  mask_tmp[cal_disk] .= 1\n",
    "  mask[:,:,echo] = mask_tmp\n",
    "end\n",
    "\n",
    "f=Figure()\n",
    "ax = Axis(f[1,1],title = \"mask TE n°1\")\n",
    "heatmap!(ax,mask[:,:,1])\n",
    "ax = Axis(f[1,2],title = \"mask TE n°2\")\n",
    "heatmap!(ax,mask[:,:,2])\n",
    "f"
   ],
   "metadata": {},
   "execution_count": null
  },
  {
   "cell_type": "markdown",
   "source": [
    "Let's subsample the k-space in 2 different ways :\n",
    "- With the same mask along the temporal dimensions : `acqData_u`\n",
    "- With different masks along the temporal dimensions : `acqData_u2`"
   ],
   "metadata": {}
  },
  {
   "outputs": [],
   "cell_type": "code",
   "source": [
    "mask_multi2 = repeat(mask[:,:,1],1,1,1,nCh,nEchos,1);# same first mask along TE\n",
    "\n",
    "kspace = kDataCart(acqData);\n",
    "kspace = kspace .* mask_multi2;\n",
    "acqData_u = AcquisitionData(kspace);\n",
    "\n",
    "mask_multi = repeat(mask,1,1,1,nCh,1,1);\n",
    "mask_multi = permutedims(mask_multi,(1,2,5,4,3,6));\n",
    "\n",
    "kspace = kDataCart(acqData);\n",
    "kspace = kspace .* mask_multi;\n",
    "acqData_u2 = AcquisitionData(kspace);"
   ],
   "metadata": {},
   "execution_count": null
  },
  {
   "cell_type": "markdown",
   "source": [
    "## Reconstruction of undersampled rawdata"
   ],
   "metadata": {}
  },
  {
   "outputs": [],
   "cell_type": "code",
   "source": [
    "params = Dict{Symbol,Any}()\n",
    "params[:reconSize] = (N, N)\n",
    "params[:reco] = \"multiCoilMultiEcho\"\n",
    "params[:regularization] = \"L2\"\n",
    "params[:λ] = 1.e-3\n",
    "params[:iterations] = 1\n",
    "params[:solver] = \"cgnr\"\n",
    "params[:senseMaps] = reshape(coilsens, N, N, 1, nCh)\n",
    "\n",
    "im_x = reconstruction(acqData, params).data # fully reconstruction\n",
    "im_phant = abs.(im_x)\n",
    "\n",
    "im_x_u = reconstruction(acqData_u, params).data # undersampling same mask\n",
    "im_phant_u = abs.(im_x_u)\n",
    "\n",
    "im_x_u2 = reconstruction(acqData_u2, params).data # undersampling different mask along TE\n",
    "im_phant_u2 = abs.(im_x_u2)\n",
    "\n",
    "p1 = (100, 45)\n",
    "p2 = (40, 60)\n",
    "echo=1\n",
    "f = Figure()\n",
    "ax = Axis(f[1, 1], aspect=1, title=\"Fully\")\n",
    "hidedecorations!(ax)\n",
    "heatmap!(ax, im_phant[:, :, 1, echo, 1, 1])\n",
    "scatter!(ax, p1,color=color[4])\n",
    "scatter!(ax, p2,color=color[4])\n",
    "\n",
    "ax = Axis(f[2, 1], aspect=1, title=\"CS same mask\")\n",
    "hidedecorations!(ax)\n",
    "heatmap!(ax, im_phant_u[:, :, 1, echo, 1, 1])\n",
    "\n",
    "ax = Axis(f[3, 1], aspect=1, title=\"CS different masks\")\n",
    "hidedecorations!(ax)\n",
    "heatmap!(ax, im_phant_u2[:, :, 1, echo, 1, 1])\n",
    "\n",
    "ax = Axis(f[:, 2],title = \"T2₁=$(round(1/rmap[p1...],digits=0)) | T2₂=$(round(1/rmap[p2...],digits=0)) ms\",xlabel = \"TE [ms]\",ylabel = \"MR signal\")\n",
    "lines!(ax, im_phant[p1..., 1, :, 1, 1],color=:black,label = \"fully\")\n",
    "lines!(ax, im_phant[p2..., 1, :, 1, 1],color=:black)\n",
    "\n",
    "lines!(ax, im_phant_u[p1..., 1, :, 1, 1],color=color[2],label = \"same mask\")\n",
    "lines!(ax, im_phant_u[p2..., 1, :, 1, 1],color=color[2],)\n",
    "\n",
    "lines!(ax, im_phant_u2[p1..., 1, :, 1, 1],color=color[3],label = \"different mask\")\n",
    "lines!(ax, im_phant_u2[p2..., 1, :, 1, 1],color=color[3])\n",
    "axislegend(ax)\n",
    "f"
   ],
   "metadata": {},
   "execution_count": null
  },
  {
   "cell_type": "markdown",
   "source": [
    "When the same mask is used along the temporal dimension, we see a standard decaying\n",
    "exponential curve. However the rate of decrease is biased by the PSF effect of the\n",
    "undersampling mask, corresponding by the same sum of others weigthed pixels.\n",
    "\n",
    "When the mask is not the same along the temporal dimension, we observed a noisy curve\n",
    "close to the real exponential."
   ],
   "metadata": {}
  },
  {
   "cell_type": "markdown",
   "source": [
    "# Implementation of a subspace reconstruction\n",
    "## Build the dictionary\n",
    "We build a signal dictionary using the analytical equation :\n",
    "\n",
    "$$S(TE) = \\frac{-TE}{T2}$$\n",
    "\n",
    "with a range of T2 from 1:1:2000 ms"
   ],
   "metadata": {}
  },
  {
   "outputs": [],
   "cell_type": "code",
   "source": [
    "function createExpBasis(TE_vec::AbstractVector{T}, T2_vec::AbstractVector{T}) where {T<:Real}\n",
    "  nTE = length(TE_vec)\n",
    "  nSimu = length(T2_vec)\n",
    "  expSignal = zeros(T, nSimu, nTE)\n",
    "\n",
    "  for (i, T2) in enumerate(T2_vec)\n",
    "    expSignal[i, :] = exp.(-TE_vec / T2_vec[i])\n",
    "  end\n",
    "\n",
    "  return expSignal\n",
    "end\n",
    "\n",
    "T2_vec = (1:1:2000)\n",
    "sDict = createExpBasis(Float32.(TEnum), Float32.(T2_vec))"
   ],
   "metadata": {},
   "execution_count": null
  },
  {
   "cell_type": "markdown",
   "source": [
    "For real application with stimulated echo we have to remove the 1st echo from the dictionary and the rawdata"
   ],
   "metadata": {}
  },
  {
   "cell_type": "markdown",
   "source": [
    "## Extract the subspace temporal basis\n",
    "Now we can perform an svd decomposition of the signal dictionnary in order to extract the temporal basis in order to use them during the reconstruction"
   ],
   "metadata": {}
  },
  {
   "outputs": [],
   "cell_type": "code",
   "source": [
    "svd_obj = svd(sDict)\n",
    "basis = Complex.(svd_obj.V)[:, 1:5]"
   ],
   "metadata": {},
   "execution_count": null
  },
  {
   "cell_type": "markdown",
   "source": [
    "In this example, we will use the 5 first basis."
   ],
   "metadata": {}
  },
  {
   "outputs": [],
   "cell_type": "code",
   "source": [
    "f=Figure()\n",
    "ax = Axis(f[1,1])\n",
    "for i = 1:size(basis,2)\n",
    "  lines!(ax,real.(svd_obj.V[:,i]))\n",
    "end\n",
    "f"
   ],
   "metadata": {},
   "execution_count": null
  },
  {
   "cell_type": "markdown",
   "source": [
    "Our supposition for the subspace reconstruction is that the MESE signal can be\n",
    "approximated by a linear combinaison of the 5 basis corresponding to the temporal curve."
   ],
   "metadata": {}
  },
  {
   "cell_type": "markdown",
   "source": [
    "## Subspace reconstruction\n",
    "In order to perform the subspace reconstruction we are using a dedicated pipeline name :\n",
    "`params[:reco] = \"multiCoilMultiEchoSubspace\"` and we also need to pass the basis\n",
    "`params[:basis] = basis`\n",
    "\n",
    "Here, we also have added a Wavelet spatial regularization that will be applied on the basis coefficient maps."
   ],
   "metadata": {}
  },
  {
   "outputs": [],
   "cell_type": "code",
   "source": [
    "params = Dict{Symbol,Any}()\n",
    "params[:reconSize] = (N, N)\n",
    "params[:reco] = \"multiCoilMultiEchoSubspace\"\n",
    "\n",
    "params[:regularization] = \"L1\"\n",
    "params[:sparseTrafo] = \"Wavelet\" #sparse trafo\n",
    "params[:λ] = 0.001\n",
    "params[:solver] = \"admm\"\n",
    "params[:senseMaps] = reshape(coilsens, N, N, 1, nCh)\n",
    "params[:basis] = basis\n",
    "\n",
    "params[:iterations] = 1\n",
    "α = reconstruction(acqData, params)\n",
    "im_sub = abs.(applySubspace(α, basis))\n",
    "\n",
    "params[:iterations] = 100\n",
    "α = reconstruction(acqData_u, params)\n",
    "im_sub_2 = abs.(applySubspace(α, basis))\n",
    "\n",
    "α = reconstruction(acqData_u2, params)\n",
    "im_sub_3 = abs.(applySubspace(α, basis));"
   ],
   "metadata": {},
   "execution_count": null
  },
  {
   "cell_type": "markdown",
   "source": [
    "## Coefficient maps\n",
    "The reconstruction returns the coefficient maps :"
   ],
   "metadata": {}
  },
  {
   "outputs": [],
   "cell_type": "code",
   "source": [
    "f = Figure()\n",
    "for i = 1:size(basis,2)\n",
    "  ax = Axis(f[1,i],aspect=1,title = \"Basis n°$i\")\n",
    "  heatmap!(abs.(α[:,:,1,i,1,1]),colormap=:plasma)\n",
    "  hidedecorations!(ax)\n",
    "end\n",
    "f"
   ],
   "metadata": {},
   "execution_count": null
  },
  {
   "cell_type": "markdown",
   "source": [
    "## Virtual echo images\n",
    "We need to multiply the subspace basis to the coefficient maps in order to get the virtual TE images\n",
    "\n",
    "$$im_{TE}(i,j) = \\sum_{basis=1}^{5} \\alpha(i,j) \\times basis'$$\n",
    "\n",
    "which gives the following results :"
   ],
   "metadata": {}
  },
  {
   "outputs": [],
   "cell_type": "code",
   "source": [
    "begin\n",
    "p1 = (100, 45)\n",
    "p2 = (40, 60)\n",
    "echo = 1\n",
    "f = Figure()\n",
    "ax = Axis(f[1, 1], aspect=1, title=\"Fully standard\")\n",
    "hidedecorations!(ax)\n",
    "heatmap!(ax, im_phant[:, :, 1, echo, 1, 1])\n",
    "scatter!(ax, p1,color=:red)\n",
    "scatter!(ax, p2,color=:red)\n",
    "\n",
    "ax = Axis(f[1, 2], aspect=1, title=\"Fully with subspace reco\")\n",
    "hidedecorations!(ax)\n",
    "heatmap!(ax, im_sub[:, :, 1, echo, 1, 1])\n",
    "\n",
    "ax = Axis(f[1, 3], aspect=1, title=\"CS same mask\")\n",
    "hidedecorations!(ax)\n",
    "heatmap!(ax, im_sub_2[:, :, 1, echo, 1, 1])\n",
    "\n",
    "ax = Axis(f[1, 4], aspect=1, title=\"CS different masks\")\n",
    "hidedecorations!(ax)\n",
    "heatmap!(ax, im_sub_3[:, :, 1, 1, 1, 1])\n",
    "\n",
    "ax = Axis(f[2, :],title = \"T2₁=$(round(1/rmap[p1...],digits=0)) | T2₂=$(round(1/rmap[p2...],digits=0)) ms\",xlabel = \"TE [ms]\",ylabel = \"MR signal\")\n",
    "function scale_T2(T2vect)\n",
    "  return T2vect/T2vect[1]\n",
    "end\n",
    "lines!(ax, scale_T2(im_phant[p1..., 1, :, 1, 1]),color=:black,label = \"fully\")\n",
    "lines!(ax, scale_T2(im_phant[p2..., 1, :, 1, 1]),color=:black)\n",
    "\n",
    "lines!(ax, scale_T2(im_sub[p1..., 1, :, 1, 1]),color=color[1],label = \"fully subspace\")\n",
    "lines!(ax, scale_T2(im_sub[p2..., 1, :, 1, 1]),color=color[1])\n",
    "\n",
    "lines!(ax, scale_T2(im_sub_2[p1..., 1, :, 1, 1]),color=color[2],label = \"same mask\")\n",
    "lines!(ax, scale_T2(im_sub_2[p2..., 1, :, 1, 1]),color=color[2])\n",
    "\n",
    "lines!(ax, scale_T2(im_sub_3[p1..., 1, :, 1, 1]),color=color[3],label = \"different mask\")\n",
    "lines!(ax, scale_T2(im_sub_3[p2..., 1, :, 1, 1]),color=color[3])\n",
    "axislegend(ax)\n",
    "f\n",
    "end"
   ],
   "metadata": {},
   "execution_count": null
  },
  {
   "cell_type": "markdown",
   "source": [
    "# Reproducibility"
   ],
   "metadata": {}
  },
  {
   "cell_type": "markdown",
   "source": [
    "This page was generated with the following version of Julia:"
   ],
   "metadata": {}
  },
  {
   "outputs": [],
   "cell_type": "code",
   "source": [
    "using InteractiveUtils\n",
    "io = IOBuffer();\n",
    "versioninfo(io);\n",
    "split(String(take!(io)), '\\n')"
   ],
   "metadata": {},
   "execution_count": null
  },
  {
   "cell_type": "markdown",
   "source": [
    "And with the following package versions"
   ],
   "metadata": {}
  },
  {
   "outputs": [],
   "cell_type": "code",
   "source": [
    "import Pkg; Pkg.status()"
   ],
   "metadata": {},
   "execution_count": null
  },
  {
   "cell_type": "markdown",
   "source": [
    "---\n",
    "\n",
    "*This notebook was generated using [Literate.jl](https://github.com/fredrikekre/Literate.jl).*"
   ],
   "metadata": {}
  }
 ],
 "nbformat_minor": 3,
 "metadata": {
  "language_info": {
   "file_extension": ".jl",
   "mimetype": "application/julia",
   "name": "julia",
   "version": "1.10.0"
  },
  "kernelspec": {
   "name": "julia-1.10",
   "display_name": "Julia 1.10.0",
   "language": "julia"
  }
 },
 "nbformat": 4
}

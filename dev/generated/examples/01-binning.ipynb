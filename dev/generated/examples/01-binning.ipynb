{
 "cells": [
  {
   "cell_type": "markdown",
   "source": [
    "# Binning"
   ],
   "metadata": {}
  },
  {
   "cell_type": "markdown",
   "source": [
    "## Description\n",
    "\n",
    "This example described how to perform data binning with different number of profiles\n",
    "which is generaly used for self-gating acquisition\n",
    "in order to reconstruct images along the cardiac/respiratory cycle :\n",
    "1. Trotier AJ, Castets CR, Lefrançois W, et al. USPIO-enhanced 3D-cine self-gated cardiac MRI based on a stack-of-stars golden angle short echo time sequence: Application on mice with acute myocardial infarction. Journal of Magnetic Resonance Imaging 2016;44:355–365 doi: 10.1002/jmri.25150.\n",
    "2. Ribot EJ, Duriez TJ, Trotier AJ, Thiaudiere E, Franconi J-M, Miraux S. Self-gated bSSFP sequences to detect iron-labeled cancer cells and/or metastases in vivo in mouse liver at 7 Tesla. Journal of Magnetic Resonance Imaging 2015;41:1413–1421 doi: 10.1002/jmri.24688.\n",
    "\n",
    "\n",
    "Here, we will create a simulated 2D radial acquisition and split the projections in 2 parts along the contrast dimension.\n",
    "The number of projection into each bin will be different to show how MRIReco handle that case."
   ],
   "metadata": {}
  },
  {
   "cell_type": "markdown",
   "source": [
    "## Setup"
   ],
   "metadata": {}
  },
  {
   "outputs": [],
   "cell_type": "code",
   "source": [
    "using CairoMakie\n",
    "using ImageUtils: shepp_logan\n",
    "using MRIReco, MRISimulation\n",
    "\n",
    "function plot_im2D(im2D;title::String=\"\")\n",
    "    f = Figure()\n",
    "    ax = Axis(f[1, 1],aspect = DataAspect(), yreversed = true, title = title)\n",
    "    image!(ax, im2D')\n",
    "    hidedecorations!(ax, grid = false)\n",
    "    f\n",
    "end"
   ],
   "metadata": {},
   "execution_count": null
  },
  {
   "cell_type": "markdown",
   "source": [
    "## Simulate a radial acquisition"
   ],
   "metadata": {}
  },
  {
   "outputs": [],
   "cell_type": "code",
   "source": [
    "N = 256\n",
    "x = shepp_logan(N)\n",
    "\n",
    "params = Dict{Symbol, Any}()\n",
    "params[:simulation] = \"fast\"\n",
    "params[:trajName] = \"Radial\"\n",
    "params[:numProfiles] = round(Int64,400)\n",
    "params[:numSamplingPerProfile] = round(Int64,N)\n",
    "\n",
    "acqRad = simulation(x, params)\n",
    "rawRad = RawAcquisitionData(acqRad)"
   ],
   "metadata": {},
   "execution_count": null
  },
  {
   "cell_type": "markdown",
   "source": [
    "For real acquisition we first create the RawAcquisitionData structure\n",
    "and then convert into the AcquisitionData."
   ],
   "metadata": {}
  },
  {
   "cell_type": "markdown",
   "source": [
    "## Binning Data"
   ],
   "metadata": {}
  },
  {
   "outputs": [],
   "cell_type": "code",
   "source": [
    "rawRad2 = deepcopy(rawRad)\n",
    "for i in 1:length(rawRad.profiles)\n",
    "    if  mod(i,4) == 0\n",
    "        rawRad2.profiles[i].head.idx.contrast = 0\n",
    "    else\n",
    "        rawRad2.profiles[i].head.idx.contrast = 1\n",
    "    end\n",
    "end;"
   ],
   "metadata": {},
   "execution_count": null
  },
  {
   "cell_type": "markdown",
   "source": [
    "We need to tell to MRIReco that our trajectory is a custom one :"
   ],
   "metadata": {}
  },
  {
   "outputs": [],
   "cell_type": "code",
   "source": [
    "rawRad2.params[\"trajectory\"] = \"custom\";"
   ],
   "metadata": {},
   "execution_count": null
  },
  {
   "cell_type": "markdown",
   "source": [
    "## Reconstruction"
   ],
   "metadata": {}
  },
  {
   "cell_type": "markdown",
   "source": [
    "To perform the reconstruction we need to convert the RawAcquisitionData into and AcquisitionData structure."
   ],
   "metadata": {}
  },
  {
   "outputs": [],
   "cell_type": "code",
   "source": [
    "acqRad2 = AcquisitionData(rawRad2)"
   ],
   "metadata": {},
   "execution_count": null
  },
  {
   "cell_type": "markdown",
   "source": [
    "We can also plot the number of projection for both bin :"
   ],
   "metadata": {}
  },
  {
   "outputs": [],
   "cell_type": "code",
   "source": [
    "nPro1 = Int32(length(acqRad2.kdata[1,1,1])/N)\n",
    "nPro2 = Int32(length(acqRad2.kdata[2,1,1])/N)\n",
    "println(\"Number of projection in : \\n\n",
    "- Bin 1 = $nPro1\\n\n",
    "- Bin 2 = $nPro2\")"
   ],
   "metadata": {},
   "execution_count": null
  },
  {
   "cell_type": "markdown",
   "source": [
    "Now we can perform a standard reconstruction"
   ],
   "metadata": {}
  },
  {
   "outputs": [],
   "cell_type": "code",
   "source": [
    "params = Dict{Symbol, Any}()\n",
    "params[:reco] = \"direct\"\n",
    "params[:reconSize] = (N,N)\n",
    "\n",
    "Ireco = reconstruction(acqRad2, params)\n",
    "size(Ireco)"
   ],
   "metadata": {},
   "execution_count": null
  },
  {
   "cell_type": "markdown",
   "source": [
    "let's show the results for first bin"
   ],
   "metadata": {}
  },
  {
   "outputs": [],
   "cell_type": "code",
   "source": [
    "plot_im2D(abs.(Ireco[:,:,1,1]),title = \"First bin\")"
   ],
   "metadata": {},
   "execution_count": null
  },
  {
   "cell_type": "markdown",
   "source": [
    "and the second bin"
   ],
   "metadata": {}
  },
  {
   "outputs": [],
   "cell_type": "code",
   "source": [
    "plot_im2D(abs.(Ireco[:,:,1,2]),title = \"Second bin\")"
   ],
   "metadata": {},
   "execution_count": null
  },
  {
   "cell_type": "markdown",
   "source": [
    "As expected we have more streaking artifacts on the first bin because we reconstruct the image with less projections."
   ],
   "metadata": {}
  },
  {
   "cell_type": "markdown",
   "source": [
    "## Reproducibility"
   ],
   "metadata": {}
  },
  {
   "cell_type": "markdown",
   "source": [
    "This page was generated with the following version of Julia:"
   ],
   "metadata": {}
  },
  {
   "outputs": [],
   "cell_type": "code",
   "source": [
    "using InteractiveUtils\n",
    "io = IOBuffer();\n",
    "versioninfo(io);\n",
    "split(String(take!(io)), '\\n')"
   ],
   "metadata": {},
   "execution_count": null
  },
  {
   "cell_type": "markdown",
   "source": [
    "And with the following package versions"
   ],
   "metadata": {}
  },
  {
   "outputs": [],
   "cell_type": "code",
   "source": [
    "import Pkg; Pkg.status()"
   ],
   "metadata": {},
   "execution_count": null
  },
  {
   "cell_type": "markdown",
   "source": [
    "---\n",
    "\n",
    "*This notebook was generated using [Literate.jl](https://github.com/fredrikekre/Literate.jl).*"
   ],
   "metadata": {}
  }
 ],
 "nbformat_minor": 3,
 "metadata": {
  "language_info": {
   "file_extension": ".jl",
   "mimetype": "application/julia",
   "name": "julia",
   "version": "1.11.3"
  },
  "kernelspec": {
   "name": "julia-1.11",
   "display_name": "Julia 1.11.3",
   "language": "julia"
  }
 },
 "nbformat": 4
}

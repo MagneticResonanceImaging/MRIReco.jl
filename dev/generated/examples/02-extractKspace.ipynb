{
 "cells": [
  {
   "cell_type": "markdown",
   "source": [
    "# Extract k-space"
   ],
   "metadata": {}
  },
  {
   "cell_type": "markdown",
   "source": [
    "## Description\n",
    "\n",
    "This example described how to extract kspace from cartesian datasets,\n",
    "undersample the data and create back and AcquisitionData structure that can be used for reconstruction.\n",
    "\n",
    "This possibility can be easily combined with the [BartIO](https://github.com/MagneticResonanceImaging/BartIO.jl) package to reconstruct the kspace."
   ],
   "metadata": {}
  },
  {
   "cell_type": "markdown",
   "source": [
    "## Setup"
   ],
   "metadata": {}
  },
  {
   "outputs": [],
   "cell_type": "code",
   "source": [
    "using CairoMakie\n",
    "using ImageUtils: shepp_logan\n",
    "using MRIReco, MRISimulation\n",
    "using InteractiveUtils: versioninfo\n",
    "\n",
    "function plot_im2D(im2D;title::String=\"\")\n",
    "    f = Figure()\n",
    "    ax = Axis(f[1, 1],aspect = DataAspect(), yreversed = true, title = title)\n",
    "    image!(ax, im2D')\n",
    "    hidedecorations!(ax, grid = false)\n",
    "    f\n",
    "end"
   ],
   "metadata": {},
   "execution_count": null
  },
  {
   "cell_type": "markdown",
   "source": [
    "Let's create a non-square AcquisitionData structure and perform a standard reconstruction"
   ],
   "metadata": {}
  },
  {
   "outputs": [],
   "cell_type": "code",
   "source": [
    "N = 128\n",
    "N2 = 96"
   ],
   "metadata": {},
   "execution_count": null
  },
  {
   "cell_type": "markdown",
   "source": [
    "image"
   ],
   "metadata": {}
  },
  {
   "outputs": [],
   "cell_type": "code",
   "source": [
    "x = shepp_logan(N)"
   ],
   "metadata": {},
   "execution_count": null
  },
  {
   "cell_type": "markdown",
   "source": [
    "simulation"
   ],
   "metadata": {}
  },
  {
   "outputs": [],
   "cell_type": "code",
   "source": [
    "params = Dict{Symbol, Any}()\n",
    "params[:simulation] = \"fast\"\n",
    "params[:trajName] = \"Cartesian\"\n",
    "params[:numSamplingPerProfile] = N\n",
    "params[:numProfiles] = floor(Int64, N2)\n",
    "\n",
    "acqData = simulation(x[1:N,1:N2], params)\n",
    "\n",
    "params[:reco] = \"direct\"\n",
    "params[:reconSize] = (N,N2)\n",
    "\n",
    "x_approx = reconstruction(acqData, params);"
   ],
   "metadata": {},
   "execution_count": null
  },
  {
   "cell_type": "markdown",
   "source": [
    "let's show the results for first bin"
   ],
   "metadata": {}
  },
  {
   "outputs": [],
   "cell_type": "code",
   "source": [
    "plot_im2D(abs.(x_approx[:,:,1,1,1,1]),title = \"Reco from AcquisitionData\")"
   ],
   "metadata": {},
   "execution_count": null
  },
  {
   "cell_type": "markdown",
   "source": [
    "We can extract the cartesian kspace (works for 2D or 3D) with the function `kDataCart`"
   ],
   "metadata": {}
  },
  {
   "outputs": [],
   "cell_type": "code",
   "source": [
    "kspace = kDataCart(acqData)\n",
    "size(kspace)"
   ],
   "metadata": {},
   "execution_count": null
  },
  {
   "cell_type": "markdown",
   "source": [
    "Dimensions of the kspace are : kx, ky, kz, Channels, Echoes, Repetitions"
   ],
   "metadata": {}
  },
  {
   "cell_type": "markdown",
   "source": [
    "Let's see a standard reconstruction with the `ifft` function works :"
   ],
   "metadata": {}
  },
  {
   "outputs": [],
   "cell_type": "code",
   "source": [
    "x_approx2 = ifftshift(ifft(ifftshift(kspace)))\n",
    "plot_im2D(abs.(x_approx2[:,:,1,1,1,1]),title = \"Reco from extracted kspace\")"
   ],
   "metadata": {},
   "execution_count": null
  },
  {
   "cell_type": "markdown",
   "source": [
    "We can create create and apply a mask on the kspace"
   ],
   "metadata": {}
  },
  {
   "outputs": [],
   "cell_type": "code",
   "source": [
    "mask = ones(eltype(kspace),size(kspace))\n",
    "mask[1:2:end,:,:,:,:,:] .= 0\n",
    "acq_u = AcquisitionData(kspace .* mask)\n",
    "params[:reco] = \"direct\"\n",
    "params[:reconSize] = (N,N2)\n",
    "\n",
    "x_u = reconstruction(acq_u, params)\n",
    "plot_im2D(abs.(x_u[:,:,1,1,1,1]),title = \"Reco from undersampled AcquisitionData\")"
   ],
   "metadata": {},
   "execution_count": null
  },
  {
   "cell_type": "markdown",
   "source": [
    "## Reproducibility"
   ],
   "metadata": {}
  },
  {
   "cell_type": "markdown",
   "source": [
    "This page was generated with the following version of Julia:"
   ],
   "metadata": {}
  },
  {
   "outputs": [],
   "cell_type": "code",
   "source": [
    "using InteractiveUtils\n",
    "io = IOBuffer();\n",
    "versioninfo(io);\n",
    "split(String(take!(io)), '\\n')"
   ],
   "metadata": {},
   "execution_count": null
  },
  {
   "cell_type": "markdown",
   "source": [
    "And with the following package versions"
   ],
   "metadata": {}
  },
  {
   "outputs": [],
   "cell_type": "code",
   "source": [
    "import Pkg; Pkg.status()"
   ],
   "metadata": {},
   "execution_count": null
  },
  {
   "cell_type": "markdown",
   "source": [
    "---\n",
    "\n",
    "*This notebook was generated using [Literate.jl](https://github.com/fredrikekre/Literate.jl).*"
   ],
   "metadata": {}
  }
 ],
 "nbformat_minor": 3,
 "metadata": {
  "language_info": {
   "file_extension": ".jl",
   "mimetype": "application/julia",
   "name": "julia",
   "version": "1.11.2"
  },
  "kernelspec": {
   "name": "julia-1.11",
   "display_name": "Julia 1.11.2",
   "language": "julia"
  }
 },
 "nbformat": 4
}
